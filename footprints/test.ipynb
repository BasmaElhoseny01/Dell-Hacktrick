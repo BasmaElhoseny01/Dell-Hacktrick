{
 "cells": [
  {
   "cell_type": "code",
   "execution_count": 26,
   "metadata": {},
   "outputs": [
    {
     "name": "stdout",
     "output_type": "stream",
     "text": [
      "(1998, 101)\n",
      "4.2578125\n",
      "-4.55859375\n",
      "0.0010898974159453652\n",
      "0\n",
      "169785\n"
     ]
    }
   ],
   "source": [
    "import numpy as np\n",
    "img=np.load('./footprint_1709600234.npy')\n",
    "print(img.shape)\n",
    "print(np.max(img))\n",
    "print(np.min(img))\n",
    "\n",
    "\n",
    "print(np.mean(img))\n",
    "\n",
    "\n",
    "print(np.sum(img>6000))\n",
    "print(np.sum(img<1))"
   ]
  },
  {
   "cell_type": "code",
   "execution_count": 27,
   "metadata": {},
   "outputs": [
    {
     "name": "stdout",
     "output_type": "stream",
     "text": [
      "(1998, 101)\n",
      "inf\n",
      "0.0\n",
      "65504.0\n",
      "0.0\n",
      "5749.1169402500955\n",
      "28277\n",
      "25028\n"
     ]
    }
   ],
   "source": [
    "img=np.load('./footprint_1709600236.npy')\n",
    "print(img.shape)\n",
    "print(np.max(img))\n",
    "print(np.min(img))\n",
    "\n",
    "img[np.isinf(img)] = 65500.0\n",
    "\n",
    "print(np.max(img))\n",
    "print(np.min(img))\n",
    "\n",
    "\n",
    "print(np.mean(img))\n",
    "\n",
    "\n",
    "print(np.sum(img>6000))\n",
    "print(np.sum(img<1))\n",
    "\n"
   ]
  },
  {
   "cell_type": "code",
   "execution_count": 28,
   "metadata": {},
   "outputs": [
    {
     "name": "stdout",
     "output_type": "stream",
     "text": [
      "(1998, 101)\n",
      "4.484375\n",
      "-4.69140625\n",
      "-0.0033209530758710514\n",
      "0\n",
      "169749\n"
     ]
    }
   ],
   "source": [
    "img=np.load('./footprint_1709600237.npy')\n",
    "print(img.shape)\n",
    "print(np.max(img))\n",
    "print(np.min(img))\n",
    "\n",
    "\n",
    "print(np.mean(img))\n",
    "\n",
    "\n",
    "print(np.sum(img>6000))\n",
    "print(np.sum(img<1))"
   ]
  },
  {
   "cell_type": "code",
   "execution_count": 29,
   "metadata": {},
   "outputs": [
    {
     "name": "stdout",
     "output_type": "stream",
     "text": [
      "(1998, 101)\n",
      "inf\n",
      "0.0\n",
      "65504.0\n",
      "0.0\n",
      "5749.1169402500955\n",
      "28277\n",
      "25028\n"
     ]
    }
   ],
   "source": [
    "img=np.load('./footprint_1709600238.npy')\n",
    "print(img.shape)\n",
    "print(np.max(img))\n",
    "print(np.min(img))\n",
    "\n",
    "img[np.isinf(img)] = 65500.0\n",
    "\n",
    "print(np.max(img))\n",
    "print(np.min(img))\n",
    "\n",
    "\n",
    "print(np.mean(img))\n",
    "\n",
    "\n",
    "print(np.sum(img>6000))\n",
    "print(np.sum(img<1))"
   ]
  },
  {
   "cell_type": "code",
   "execution_count": 39,
   "metadata": {},
   "outputs": [
    {
     "name": "stdout",
     "output_type": "stream",
     "text": [
      "(1998, 101)\n",
      "inf\n",
      "0.0\n",
      "len(np.isinf(img)) 10774\n",
      "65504.0\n",
      "0.0\n"
     ]
    }
   ],
   "source": [
    "img=np.load('./footprint_1709600239.npy')\n",
    "print(img.shape)\n",
    "print(np.max(img))\n",
    "print(np.min(img))\n",
    "print(\"len(np.isinf(img))\",np.sum(np.isinf(img)))\n",
    "\n",
    "\n",
    "img[np.isinf(img)] = 65500.0\n",
    "\n",
    "print(np.max(img))\n",
    "print(np.min(img))\n",
    "\n"
   ]
  },
  {
   "cell_type": "code",
   "execution_count": 38,
   "metadata": {},
   "outputs": [
    {
     "name": "stdout",
     "output_type": "stream",
     "text": [
      "(1998, 101)\n",
      "4.55859375\n",
      "-4.25390625\n",
      "len(np.isinf(img)) 0\n",
      "4.55859375\n",
      "-4.25390625\n",
      "-0.000881200720814241\n",
      "0\n",
      "169539\n"
     ]
    }
   ],
   "source": [
    "img=np.load('./footprint_1709600240.npy')\n",
    "print(img.shape)\n",
    "print(np.max(img))\n",
    "print(np.min(img))\n",
    "\n",
    "print(\"len(np.isinf(img))\",np.sum(np.isinf(img)))\n",
    "\n",
    "\n",
    "img[np.isinf(img)] = 65500.0\n",
    "\n",
    "print(np.max(img))\n",
    "print(np.min(img))\n",
    "\n",
    "print(np.mean(img))\n",
    "\n",
    "\n",
    "print(np.sum(img>6000))\n",
    "print(np.sum(img<1))"
   ]
  },
  {
   "cell_type": "code",
   "execution_count": 37,
   "metadata": {},
   "outputs": [
    {
     "name": "stdout",
     "output_type": "stream",
     "text": [
      "(1998, 101)\n",
      "4.6875\n",
      "-4.81640625\n",
      "len(np.isinf(img)) 0\n",
      "4.6875\n",
      "-4.81640625\n",
      "0.0002848932136481429\n",
      "0\n",
      "169668\n"
     ]
    }
   ],
   "source": [
    "img=np.load('./footprint_1709600241.npy')\n",
    "print(img.shape)\n",
    "print(np.max(img))\n",
    "print(np.min(img))\n",
    "\n",
    "print(\"len(np.isinf(img))\",np.sum(np.isinf(img)))\n",
    "img[np.isinf(img)] = 65500.0\n",
    "\n",
    "print(np.max(img))\n",
    "print(np.min(img))\n",
    "\n",
    "\n",
    "print(np.mean(img))\n",
    "\n",
    "\n",
    "print(np.sum(img>6000))\n",
    "print(np.sum(img<1))"
   ]
  },
  {
   "cell_type": "code",
   "execution_count": 23,
   "metadata": {},
   "outputs": [
    {
     "name": "stdout",
     "output_type": "stream",
     "text": [
      "(1998, 101)\n",
      "4.43359375\n",
      "-4.0625\n",
      "4.43359375\n",
      "-4.0625\n",
      "-0.0018414186163498419\n",
      "0\n",
      "0\n",
      "169682\n",
      "169682\n",
      "-0.0018414186163498419\n",
      "0\n",
      "169682\n",
      "-0.0018414186163498419\n",
      "0\n",
      "169682\n"
     ]
    }
   ],
   "source": [
    "img=np.load('./footprint_1709600242.npy')\n",
    "print(img.shape)\n",
    "print(np.max(img))\n",
    "print(np.min(img))\n",
    "\n",
    "img[np.isinf(img)] = 65500.0\n",
    "\n",
    "print(np.max(img))\n",
    "print(np.min(img))\n",
    "\n",
    "print(np.mean(img))\n",
    "\n",
    "\n",
    "print(np.sum(img>6000))\n",
    "print(np.sum(img>6000))\n",
    "\n",
    "print(np.sum(img<1))\n",
    "print(np.sum(img<1))\n",
    "\n",
    "print(np.mean(img))\n",
    "\n",
    "\n",
    "print(np.sum(img>6000))\n",
    "print(np.sum(img<1))"
   ]
  },
  {
   "cell_type": "code",
   "execution_count": 42,
   "metadata": {},
   "outputs": [
    {
     "name": "stdout",
     "output_type": "stream",
     "text": [
      "(1998, 101)\n",
      "inf\n",
      "0.0\n",
      "len(np.isinf(img)) 10774\n",
      "[[0.00000000e+00 0.00000000e+00 0.00000000e+00 ... 0.00000000e+00\n",
      "  0.00000000e+00 0.00000000e+00]\n",
      " [0.00000000e+00 0.00000000e+00 0.00000000e+00 ... 0.00000000e+00\n",
      "  0.00000000e+00 0.00000000e+00]\n",
      " [0.00000000e+00 0.00000000e+00 0.00000000e+00 ... 0.00000000e+00\n",
      "  0.00000000e+00 0.00000000e+00]\n",
      " ...\n",
      " [1.66870117e-01 3.64990234e-01 3.89892578e-01 ... 4.87804413e-04\n",
      "  2.29072571e-03 1.72996521e-03]\n",
      " [2.26562500e+00 7.76953125e+00 2.43554688e+00 ... 3.34167480e-03\n",
      "  5.08880615e-03 1.12380981e-02]\n",
      " [1.02968750e+01 3.97812500e+01 1.69531250e+01 ... 1.42860413e-03\n",
      "  1.31301880e-02 1.87072754e-02]]\n"
     ]
    }
   ],
   "source": [
    "img=np.load('./footprint_1709600243.npy')\n",
    "print(img.shape)\n",
    "print(np.max(img))\n",
    "print(np.min(img))\n",
    "print(\"len(np.isinf(img))\",np.sum(np.isinf(img)))\n",
    "\n",
    "\n",
    "print(img[0:20,:])\n",
    "\n",
    "# # Find the indices of infinite values\n",
    "# inf_indices = np.where(np.isinf(img))\n",
    "\n",
    "# # Print the locations of infinite values\n",
    "# print(\"Locations of infinite values:\")\n",
    "# for i in range(len(inf_indices[0])):\n",
    "#     print(f\"Row: {inf_indices[0][i]}, Column: {inf_indices[1][i]}\")\n",
    "    \n",
    "# img[np.isinf(img)] = 0\n",
    "\n",
    "# print(np.max(img))\n",
    "# print(np.min(img))\n",
    "\n",
    "# print(np.mean(img))\n",
    "\n",
    "\n",
    "# print(np.sum(img>6000))\n",
    "# print(np.sum(img<1))"
   ]
  },
  {
   "cell_type": "code",
   "execution_count": 33,
   "metadata": {},
   "outputs": [
    {
     "data": {
      "image/png": "[encoded data removed]",
      "text/plain": [
       "<Figure size 640x480 with 1 Axes>"
      ]
     },
     "metadata": {},
     "output_type": "display_data"
    }
   ],
   "source": [
    "import numpy as np\n",
    "import matplotlib.pyplot as plt\n",
    "\n",
    "# Flatten the array\n",
    "flattened_data = img.flatten()\n",
    "\n",
    "# Plotting the histogram\n",
    "plt.hist(flattened_data, bins=100, color='blue', alpha=0.7)\n",
    "plt.title('Histogram of 2D Array Values')\n",
    "plt.xlabel('Value')\n",
    "plt.ylabel('Frequency')\n",
    "plt.grid(True)\n",
    "plt.show()"
   ]
  },
  {
   "cell_type": "code",
   "execution_count": null,
   "metadata": {},
   "outputs": [],
   "source": []
  }
 ],
 "metadata": {
  "kernelspec": {
   "display_name": "Python 3",
   "language": "python",
   "name": "python3"
  },
  "language_info": {
   "codemirror_mode": {
    "name": "ipython",
    "version": 3
   },
   "file_extension": ".py",
   "mimetype": "text/x-python",
   "name": "python",
   "nbconvert_exporter": "python",
   "pygments_lexer": "ipython3",
   "version": "3.10.9"
  }
 },
 "nbformat": 4,
 "nbformat_minor": 2
}
