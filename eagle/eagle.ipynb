{
  "cells": [
    {
      "cell_type": "code",
      "execution_count": 1,
      "metadata": {
        "id": "4UDbCkwxPbFx"
      },
      "outputs": [],
      "source": [
        "%load_ext autoreload\n",
        "%autoreload 2"
      ]
    },
    {
      "cell_type": "code",
      "execution_count": null,
      "metadata": {
        "colab": {
          "base_uri": "https://localhost:8080/"
        },
        "id": "sEbsSR6rs_p5",
        "outputId": "6d2f6b8e-2809-49f8-a7d1-58c5128839fd"
      },
      "outputs": [],
      "source": [
        "from google.colab import drive\n",
        "drive.mount('/content/drive')"
      ]
    },
    {
      "cell_type": "code",
      "execution_count": 2,
      "metadata": {
        "colab": {
          "base_uri": "https://localhost:8080/"
        },
        "id": "lL5sZzXLQlsz",
        "outputId": "166054f1-f675-4cf2-cb8b-ac7546085b96"
      },
      "outputs": [
        {
          "name": "stdout",
          "output_type": "stream",
          "text": [
            "(1200, 1997, 101)\n",
            "(1200, 496)\n",
            "(300, 1997, 101)\n",
            "(300, 496)\n"
          ]
        }
      ],
      "source": [
        "from data import *\n",
        "# real_dataset_path='/content/drive/MyDrive/Footprints Datasets/real.npz'\n",
        "# fake_dataset_path='/content/drive/MyDrive/Footprints Datasets/fake.npz'\n",
        "\n",
        "real_dataset_path='./data/real.npz'\n",
        "fake_dataset_path='./data/fake.npz'\n",
        "X_train,Y_train,_,_,X_val,Y_val=Split_Data(real_dataset_path=real_dataset_path,fake_dataset_path=fake_dataset_path)\n",
        "\n",
        "print(np.shape(X_train))\n",
        "print(np.shape(Y_train))\n",
        "print(np.shape(X_val))\n",
        "print(np.shape(Y_val))"
      ]
    },
    {
      "cell_type": "code",
      "execution_count": 3,
      "metadata": {
        "colab": {
          "base_uri": "https://localhost:8080/"
        },
        "id": "j3KYMkWoQoCv",
        "outputId": "bf33f635-310c-4fd2-9f6c-1c41f0bd3649"
      },
      "outputs": [
        {
          "name": "stdout",
          "output_type": "stream",
          "text": [
            "Minimum value 0.0\n",
            "Maximum value inf\n",
            "Minimum value 0.0\n",
            "Maximum value 65500.0\n",
            "Minimum value 0.0\n",
            "Maximum value inf\n",
            "Minimum value 0.0\n",
            "Maximum value 65500.0\n"
          ]
        }
      ],
      "source": [
        "print(\"Minimum value\",  np.min(X_train))\n",
        "print(\"Maximum value\", np.max(X_train))\n",
        "X_train=preprocessing(X_train)\n",
        "print(\"Minimum value\",  np.min(X_train))\n",
        "print(\"Maximum value\", np.max(X_train))\n",
        "\n",
        "\n",
        "print(\"Minimum value\",  np.min(X_val))\n",
        "print(\"Maximum value\", np.max(X_val))\n",
        "X_val=preprocessing(X_val)\n",
        "print(\"Minimum value\",  np.min(X_val))\n",
        "print(\"Maximum value\", np.max(X_val))"
      ]
    },
    {
      "cell_type": "code",
      "execution_count": 5,
      "metadata": {
        "id": "sMz8hYwJrBrQ"
      },
      "outputs": [
        {
          "name": "stdout",
          "output_type": "stream",
          "text": [
            "WARNING:tensorflow:From c:\\Users\\Dell\\AppData\\Local\\Programs\\Python\\Python310\\lib\\site-packages\\keras\\src\\losses.py:2976: The name tf.losses.sparse_softmax_cross_entropy is deprecated. Please use tf.compat.v1.losses.sparse_softmax_cross_entropy instead.\n",
            "\n"
          ]
        }
      ],
      "source": [
        "# Model\n",
        "from keras.callbacks import ModelCheckpoint\n",
        "from keras.models import Model, load_model, Sequential\n",
        "from keras.layers import Dense, Activation, Dropout, Input, Masking, TimeDistributed, LSTM, Conv1D\n",
        "from keras.layers import GRU, Bidirectional, BatchNormalization, Reshape\n",
        "from keras.optimizers import Adam\n",
        "from keras.initializers import RandomUniform\n",
        "import tensorflow as tf"
      ]
    },
    {
      "cell_type": "code",
      "execution_count": 6,
      "metadata": {
        "id": "7oXKS8SkrBrS"
      },
      "outputs": [],
      "source": [
        "# GRADED FUNCTION: model\n",
        "\n",
        "def model(input_shape=(1997,101)):\n",
        "    \"\"\"\n",
        "    Function creating the model's graph in Keras.\n",
        "\n",
        "    Argument:\n",
        "    input_shape -- shape of the model's input data (using Keras conventions)\n",
        "\n",
        "    Returns:\n",
        "    model -- Keras model instance\n",
        "    \"\"\"\n",
        "\n",
        "    X_input = Input(shape = input_shape)\n",
        "\n",
        "    ### START CODE HERE ###\n",
        "\n",
        "    # Step 1: CONV layer (≈4 lines)\n",
        "    X = Conv1D(196, kernel_size=17, strides=4)(X_input)                                 # CONV1D\n",
        "    X = BatchNormalization()(X)                                 # Batch normalization\n",
        "    X = Activation('relu')(X)                                 # ReLu activation\n",
        "    X = Dropout(0.8)(X)                                 # dropout (use 0.8)\n",
        "\n",
        "    #   # Print output shape after Conv1D\n",
        "    # print(\"Output shape after Conv1D:\", X.shape)\n",
        "\n",
        "    # Step 2: First GRU Layer (≈4 lines)\n",
        "    X = GRU(units = 128, return_sequences = True)(X) # GRU (use 128 units and return the sequences)\n",
        "    X = Dropout(0.8)(X)                                 # dropout (use 0.8)\n",
        "    X = BatchNormalization()(X)                                 # Batch normalization\n",
        "\n",
        "    # # Step 3: Second GRU Layer (≈4 lines)\n",
        "    X = GRU(units = 128, return_sequences = True)(X)   # GRU (use 128 units and return the sequences)\n",
        "    X = Dropout(0.8)(X)                                 # dropout (use 0.8)\n",
        "    X = BatchNormalization()(X)                                  # Batch normalization\n",
        "    X = Dropout(0.8)(X)                                  # dropout (use 0.8)\n",
        "\n",
        "    # # Step 4: Time-distributed dense layer (≈1 line)\n",
        "    X = TimeDistributed(Dense(1, activation = \"sigmoid\"))(X) # time distributed  (sigmoid)\n",
        "\n",
        "    ### END CODE HERE ###\n",
        "\n",
        "    model = Model(inputs = X_input, outputs = X)\n",
        "\n",
        "    return model"
      ]
    },
    {
      "cell_type": "code",
      "execution_count": 7,
      "metadata": {
        "colab": {
          "base_uri": "https://localhost:8080/"
        },
        "id": "SZThW65irBrT",
        "outputId": "1a9dcb4c-d4e3-4cb3-9a1b-c2a253b705ab"
      },
      "outputs": [
        {
          "name": "stdout",
          "output_type": "stream",
          "text": [
            "WARNING:tensorflow:From c:\\Users\\Dell\\AppData\\Local\\Programs\\Python\\Python310\\lib\\site-packages\\keras\\src\\backend.py:1398: The name tf.executing_eagerly_outside_functions is deprecated. Please use tf.compat.v1.executing_eagerly_outside_functions instead.\n",
            "\n",
            "Model: \"model\"\n",
            "_________________________________________________________________\n",
            " Layer (type)                Output Shape              Param #   \n",
            "=================================================================\n",
            " input_1 (InputLayer)        [(None, 1997, 101)]       0         \n",
            "                                                                 \n",
            " conv1d (Conv1D)             (None, 496, 196)          336728    \n",
            "                                                                 \n",
            " batch_normalization (Batch  (None, 496, 196)          784       \n",
            " Normalization)                                                  \n",
            "                                                                 \n",
            " activation (Activation)     (None, 496, 196)          0         \n",
            "                                                                 \n",
            " dropout (Dropout)           (None, 496, 196)          0         \n",
            "                                                                 \n",
            " gru (GRU)                   (None, 496, 128)          125184    \n",
            "                                                                 \n",
            " dropout_1 (Dropout)         (None, 496, 128)          0         \n",
            "                                                                 \n",
            " batch_normalization_1 (Bat  (None, 496, 128)          512       \n",
            " chNormalization)                                                \n",
            "                                                                 \n",
            " gru_1 (GRU)                 (None, 496, 128)          99072     \n",
            "                                                                 \n",
            " dropout_2 (Dropout)         (None, 496, 128)          0         \n",
            "                                                                 \n",
            " batch_normalization_2 (Bat  (None, 496, 128)          512       \n",
            " chNormalization)                                                \n",
            "                                                                 \n",
            " dropout_3 (Dropout)         (None, 496, 128)          0         \n",
            "                                                                 \n",
            " time_distributed (TimeDist  (None, 496, 1)            129       \n",
            " ributed)                                                        \n",
            "                                                                 \n",
            "=================================================================\n",
            "Total params: 562921 (2.15 MB)\n",
            "Trainable params: 562017 (2.14 MB)\n",
            "Non-trainable params: 904 (3.53 KB)\n",
            "_________________________________________________________________\n"
          ]
        }
      ],
      "source": [
        "model_eagle = model()\n",
        "model_eagle.summary()"
      ]
    },
    {
      "cell_type": "code",
      "execution_count": null,
      "metadata": {
        "colab": {
          "base_uri": "https://localhost:8080/"
        },
        "id": "mh6iiVK6u2Nf",
        "outputId": "5ac5cf9a-ac82-4741-c7eb-c0002835476c"
      },
      "outputs": [
        {
          "name": "stdout",
          "output_type": "stream",
          "text": [
            "Real Data: 0s: 536097, 1s:59103\n",
            "9.070554794172885\n"
          ]
        }
      ],
      "source": [
        "zeros = np.count_nonzero(Y_train == 0)\n",
        "ones = np.count_nonzero(Y_train == 1)\n",
        "print(f\"Real Data: 0s: {zeros}, 1s:{ones}\")\n",
        "print(zeros/ones)"
      ]
    },
    {
      "cell_type": "code",
      "execution_count": 9,
      "metadata": {
        "id": "diixg2b4dzQq"
      },
      "outputs": [],
      "source": [
        "import keras\n",
        "class_weights = {0: 1.0, 1: 10.0}  # Example class weights\n",
        "@keras.saving.register_keras_serializable()\n",
        "# Define weighted binary cross-entropy loss function\n",
        "def weighted_binary_crossentropy(y_true, y_pred):\n",
        "    # Clip predicted values to prevent log(0) and log(1) cases\n",
        "    y_pred = tf.clip_by_value(y_pred, 1e-7, 1 - 1e-7)\n",
        "\n",
        "    # Compute weighted binary cross-entropy\n",
        "    weights = tf.constant([class_weights[i] for i in range(len(class_weights))])\n",
        "    bce = tf.keras.losses.BinaryCrossentropy(from_logits=False)\n",
        "    return tf.reduce_mean(bce(y_true, y_pred) * weights)"
      ]
    },
    {
      "cell_type": "code",
      "execution_count": 10,
      "metadata": {
        "id": "p8YDHcxarBrT"
      },
      "outputs": [],
      "source": [
        "# opt = Adam(learning_rate=0.0001, beta_1=0.9, beta_2=0.999, decay=0.01)\n",
        "opt = Adam(learning_rate=0.001, beta_1=0.9, beta_2=0.999)\n",
        "model_eagle.compile(loss=weighted_binary_crossentropy, optimizer=opt, metrics=[\"accuracy\"])"
      ]
    },
    {
      "cell_type": "code",
      "execution_count": 11,
      "metadata": {
        "colab": {
          "base_uri": "https://localhost:8080/"
        },
        "id": "SE5MJPMxg_yt",
        "outputId": "a420263d-eadd-40cf-817c-46507fd60430"
      },
      "outputs": [
        {
          "name": "stdout",
          "output_type": "stream",
          "text": [
            "WARNING:tensorflow:From c:\\Users\\Dell\\AppData\\Local\\Programs\\Python\\Python310\\lib\\site-packages\\keras\\src\\utils\\tf_utils.py:492: The name tf.ragged.RaggedTensorValue is deprecated. Please use tf.compat.v1.ragged.RaggedTensorValue instead.\n",
            "\n",
            "WARNING:tensorflow:From c:\\Users\\Dell\\AppData\\Local\\Programs\\Python\\Python310\\lib\\site-packages\\keras\\src\\engine\\base_layer_utils.py:384: The name tf.executing_eagerly_outside_functions is deprecated. Please use tf.compat.v1.executing_eagerly_outside_functions instead.\n",
            "\n",
            "240/240 [==============================] - 79s 295ms/step - loss: 3.4042 - accuracy: 0.7904\n"
          ]
        },
        {
          "data": {
            "text/plain": [
              "<keras.src.callbacks.History at 0x20cdb578340>"
            ]
          },
          "execution_count": 11,
          "metadata": {},
          "output_type": "execute_result"
        }
      ],
      "source": [
        "model_eagle.fit(X_train,Y_train, batch_size = 5, epochs=1)"
      ]
    },
    {
      "cell_type": "code",
      "execution_count": null,
      "metadata": {
        "colab": {
          "base_uri": "https://localhost:8080/"
        },
        "id": "OnE4l9kzs0eH",
        "outputId": "4f8410d5-b4bd-4bac-8309-8205d614924d"
      },
      "outputs": [],
      "source": [
        "model_eagle.fit(X_train,Y_train, batch_size = 16, epochs=30)"
      ]
    },
    {
      "cell_type": "code",
      "execution_count": null,
      "metadata": {
        "colab": {
          "base_uri": "https://localhost:8080/"
        },
        "id": "zy731CUJim-k",
        "outputId": "4a9f5fff-e5fe-4b36-ca05-d5783d94865f"
      },
      "outputs": [],
      "source": [
        "model_eagle.fit(X_train,Y_train, batch_size = 16, epochs=10)"
      ]
    },
    {
      "cell_type": "code",
      "execution_count": null,
      "metadata": {
        "colab": {
          "base_uri": "https://localhost:8080/"
        },
        "id": "XJfCfjBKeIYV",
        "outputId": "104a84a5-555f-4e78-f608-745e82b3c5e3"
      },
      "outputs": [],
      "source": [
        "model_eagle.fit(X_train,Y_train, batch_size = 16, epochs=10)"
      ]
    },
    {
      "cell_type": "code",
      "execution_count": null,
      "metadata": {
        "colab": {
          "base_uri": "https://localhost:8080/"
        },
        "id": "bctOTr7Qr0-X",
        "outputId": "21d6f082-adfc-40cb-910e-c1248915876c"
      },
      "outputs": [],
      "source": [
        "model_eagle.fit(X_train,Y_train, batch_size = 5, epochs=1)"
      ]
    },
    {
      "cell_type": "code",
      "execution_count": null,
      "metadata": {
        "colab": {
          "base_uri": "https://localhost:8080/"
        },
        "id": "PSM_J1EORqg-",
        "outputId": "3e7f6a26-56da-47b7-da6f-a5345ceba85a"
      },
      "outputs": [],
      "source": [
        "model_eagle.fit(X_train,Y_train, batch_size = 5, epochs=1)"
      ]
    },
    {
      "cell_type": "code",
      "execution_count": null,
      "metadata": {
        "colab": {
          "base_uri": "https://localhost:8080/"
        },
        "id": "snzKfR3rV3H-",
        "outputId": "c1d19e4c-3968-4016-8a53-c8d4fb87a374"
      },
      "outputs": [],
      "source": [
        "model_eagle.fit(X_train,Y_train, batch_size = 64, epochs=1)"
      ]
    },
    {
      "cell_type": "code",
      "execution_count": 12,
      "metadata": {
        "id": "dggXD-A1xE9N"
      },
      "outputs": [],
      "source": [
        "model_eagle.save('./model_test.h5')"
      ]
    },
    {
      "cell_type": "code",
      "execution_count": 14,
      "metadata": {
        "colab": {
          "base_uri": "https://localhost:8080/"
        },
        "id": "qSK_CiMevtfU",
        "outputId": "9a883616-fd40-4dda-86bb-9822b4112451"
      },
      "outputs": [
        {
          "ename": "",
          "evalue": "",
          "output_type": "error",
          "traceback": [
            "\u001b[1;31mThe Kernel crashed while executing code in the current cell or a previous cell. \n",
            "\u001b[1;31mPlease review the code in the cell(s) to identify a possible cause of the failure. \n",
            "\u001b[1;31mClick <a href='https://aka.ms/vscodeJupyterKernelCrash'>here</a> for more info. \n",
            "\u001b[1;31mView Jupyter <a href='command:jupyter.viewOutput'>log</a> for further details."
          ]
        }
      ],
      "source": [
        "loss, acc = model_eagle.evaluate(X_val, Y_val)\n",
        "print(loss)\n",
        "print(acc)"
      ]
    },
    {
      "cell_type": "code",
      "execution_count": null,
      "metadata": {
        "colab": {
          "base_uri": "https://localhost:8080/"
        },
        "id": "Oql8qK1dRiNz",
        "outputId": "bd93badc-8907-4446-be23-47f061af759b"
      },
      "outputs": [],
      "source": [
        "predictions = model_eagle.predict(X_val)\n",
        "print(np.shape(predictions))"
      ]
    },
    {
      "cell_type": "code",
      "execution_count": null,
      "metadata": {
        "colab": {
          "base_uri": "https://localhost:8080/"
        },
        "id": "QAJ3F8eUSyKs",
        "outputId": "6364c8a0-7866-4e33-90ad-3e41d4d69808"
      },
      "outputs": [],
      "source": [
        "print(predictions[0,:].T)\n",
        "print(np.max(predictions[0,:]))\n",
        "\n",
        "# Apply threshold of 0.5 to convert probabilities to binary labels\n",
        "binary_labels = (predictions[0,:] >= 0.5).astype(int)\n",
        "print(binary_labels.T)"
      ]
    },
    {
      "cell_type": "code",
      "execution_count": null,
      "metadata": {
        "colab": {
          "base_uri": "https://localhost:8080/"
        },
        "id": "5mMs4IQGU2Uk",
        "outputId": "9231a248-301f-46fc-e358-5758ea13be17"
      },
      "outputs": [],
      "source": [
        "print(Y_val[0])\n",
        "print(np.max(Y_val[0]))"
      ]
    },
    {
      "cell_type": "code",
      "execution_count": null,
      "metadata": {
        "colab": {
          "base_uri": "https://localhost:8080/"
        },
        "id": "hine8IEpSuwt",
        "outputId": "58a3b21e-ef95-4939-882d-ccdefe41d6f0"
      },
      "outputs": [],
      "source": [
        "print(predictions[1].T)\n",
        "print(np.max(predictions[1]))\n",
        "\n",
        "# Apply threshold of 0.5 to convert probabilities to binary labels\n",
        "binary_labels = (predictions[1,:] >= 0.5).astype(int)\n",
        "print(binary_labels.T)"
      ]
    },
    {
      "cell_type": "code",
      "execution_count": null,
      "metadata": {
        "colab": {
          "base_uri": "https://localhost:8080/"
        },
        "id": "tckiQMTmU-_m",
        "outputId": "4f746805-6172-4f6d-fc41-f61110d6985f"
      },
      "outputs": [],
      "source": [
        "print(Y_val[1])\n",
        "print(np.max(Y_val[1]))"
      ]
    },
    {
      "cell_type": "code",
      "execution_count": null,
      "metadata": {
        "colab": {
          "base_uri": "https://localhost:8080/"
        },
        "id": "q86PEWUpZE93",
        "outputId": "a588cc33-a37f-4dd2-90e7-13781cb10f8d"
      },
      "outputs": [],
      "source": [
        "loss, acc = model_eagle.evaluate(np.expand_dims(X_val[1,:,:], axis=0),np.expand_dims(Y_val[1,:], axis=0))"
      ]
    },
    {
      "cell_type": "code",
      "execution_count": null,
      "metadata": {
        "colab": {
          "base_uri": "https://localhost:8080/"
        },
        "id": "UG_2wcq4TNfC",
        "outputId": "8a24542f-bd43-44d2-be67-8f31dc187c21"
      },
      "outputs": [],
      "source": [
        "print(predictions[50].T)\n",
        "print(np.max(predictions[50]))\n",
        "# Apply threshold of 0.5 to convert probabilities to binary labels\n",
        "binary_labels = (predictions[50,:] >= 0.5).astype(int)\n",
        "print(binary_labels.T)"
      ]
    },
    {
      "cell_type": "code",
      "execution_count": null,
      "metadata": {
        "colab": {
          "base_uri": "https://localhost:8080/"
        },
        "id": "WVsSJRYDVL0G",
        "outputId": "ca96a4d7-e5ec-469e-9e50-6f3d48a04d95"
      },
      "outputs": [],
      "source": [
        "print(Y_val[50])\n",
        "print(np.max(Y_val[50]))"
      ]
    },
    {
      "cell_type": "code",
      "execution_count": null,
      "metadata": {
        "colab": {
          "base_uri": "https://localhost:8080/"
        },
        "id": "Z3qcsGRYgw2H",
        "outputId": "e9feff79-cb00-4754-96da-b3193ff462de"
      },
      "outputs": [],
      "source": [
        "print(predictions[50].T)\n",
        "print(np.max(predictions[50]))\n",
        "\n",
        "print(Y_val[50])\n",
        "print(np.max(Y_val[50]))"
      ]
    },
    {
      "cell_type": "code",
      "execution_count": null,
      "metadata": {
        "colab": {
          "base_uri": "https://localhost:8080/"
        },
        "id": "7fVLUkiMVWsL",
        "outputId": "f1630e5d-f145-4eb4-fe32-e0cc99de2d50"
      },
      "outputs": [],
      "source": [
        "np.max(predictions)"
      ]
    },
    {
      "cell_type": "code",
      "execution_count": 13,
      "metadata": {
        "id": "hudjBx4Dvus0"
      },
      "outputs": [],
      "source": [
        "import keras\n",
        "from keras.models import load_model\n",
        "loaded_model = keras.models.load_model('./model_test.h5')"
      ]
    },
    {
      "cell_type": "code",
      "execution_count": null,
      "metadata": {
        "colab": {
          "base_uri": "https://localhost:8080/"
        },
        "id": "lcb2zWfz0Q0q",
        "outputId": "5bfaf9f4-2fc2-497c-deeb-76ded3a71ec0"
      },
      "outputs": [],
      "source": [
        "loss, acc = loaded_model.evaluate(X_val, Y_val)\n",
        "print(loss)\n",
        "print(acc)"
      ]
    },
    {
      "cell_type": "code",
      "execution_count": null,
      "metadata": {
        "id": "_e4-OGpi1gKv"
      },
      "outputs": [],
      "source": [
        "# rand_model = model()\n",
        "\n",
        "# opt = Adam(learning_rate=0.001, beta_1=0.9, beta_2=0.999)\n",
        "# rand_model.compile(loss=weighted_binary_crossentropy, optimizer=opt, metrics=[\"accuracy\"])\n",
        "# loss, acc = x.evaluate(X_val, Y_val)\n"
      ]
    }
  ],
  "metadata": {
    "accelerator": "GPU",
    "colab": {
      "gpuType": "T4",
      "provenance": []
    },
    "kernelspec": {
      "display_name": "Python 3",
      "name": "python3"
    },
    "language_info": {
      "codemirror_mode": {
        "name": "ipython",
        "version": 3
      },
      "file_extension": ".py",
      "mimetype": "text/x-python",
      "name": "python",
      "nbconvert_exporter": "python",
      "pygments_lexer": "ipython3",
      "version": "3.10.9"
    }
  },
  "nbformat": 4,
  "nbformat_minor": 0
}
