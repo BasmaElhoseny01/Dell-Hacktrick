{
 "cells": [
  {
   "cell_type": "code",
   "execution_count": 18,
   "metadata": {},
   "outputs": [
    {
     "name": "stdout",
     "output_type": "stream",
     "text": [
      "6\n"
     ]
    }
   ],
   "source": [
    "import random\n",
    "\n",
    "def get_random_number():\n",
    "    return random.choice([4, 6])\n",
    "\n",
    "result = get_random_number()\n",
    "print(result)\n"
   ]
  },
  {
   "cell_type": "code",
   "execution_count": 50,
   "metadata": {},
   "outputs": [
    {
     "name": "stdout",
     "output_type": "stream",
     "text": [
      "First Part: abcd\n",
      "Second Part: efghij12\n"
     ]
    }
   ],
   "source": [
    "import random\n",
    "\n",
    "def divide_string(input_string):\n",
    "    total_length = len(input_string)\n",
    "\n",
    "    # Choose the length for the first part (either 4 or 6)\n",
    "    length_first_part = random.choice([2,4, 6])\n",
    "\n",
    "    # Calculate the length for the second part\n",
    "    length_second_part = total_length - length_first_part\n",
    "\n",
    "    # Divide the input string into two parts\n",
    "    first_part = input_string[:length_first_part]\n",
    "    second_part = input_string[length_first_part:]\n",
    "\n",
    "    return first_part, second_part\n",
    "\n",
    "# Example usage\n",
    "input_str = \"abcdefghij12\"\n",
    "first_part, second_part = divide_string(input_str)\n",
    "\n",
    "print(\"First Part:\", first_part)\n",
    "print(\"Second Part:\", second_part)\n"
   ]
  },
  {
   "cell_type": "code",
   "execution_count": 100,
   "metadata": {},
   "outputs": [
    {
     "name": "stdout",
     "output_type": "stream",
     "text": [
      "Result Parts: ['a', 'b', 'c', 'd', 'e', 'f', 'g', 'h', 'i', 'j', '1', '2']\n"
     ]
    }
   ],
   "source": [
    "import random\n",
    "\n",
    "def divide_string(input_string):\n",
    "    total_length = len(input_string)\n",
    "\n",
    "    # Choose the length for the parts (either 4 or 6)\n",
    "    length_part = random.choice([1,2,4,3, 6,12])\n",
    "\n",
    "    # Calculate the number of parts\n",
    "    num_parts = total_length // length_part\n",
    "\n",
    "    # Divide the input string into parts\n",
    "    parts = [input_string[i * length_part: (i + 1) * length_part] for i in range(num_parts)]\n",
    "\n",
    "    return parts\n",
    "\n",
    "# Example usage\n",
    "input_str = \"abcdefghij12\"\n",
    "result_parts = divide_string(input_str)\n",
    "\n",
    "print(\"Result Parts:\", result_parts)\n"
   ]
  },
  {
   "cell_type": "code",
   "execution_count": 146,
   "metadata": {},
   "outputs": [
    {
     "name": "stdout",
     "output_type": "stream",
     "text": [
      "Result: ['abc', 'def', 'ghi', 'j12', 'u', 'o', '9', 'd', 'r', 'a', '6', 'l']\n"
     ]
    }
   ],
   "source": [
    "import random\n",
    "\n",
    "def generate_message_array(message, image_carrier):\n",
    "    def split_message_part(part, choice):\n",
    "        num_parts = len(part) // choice\n",
    "        return [part[i * choice: (i + 1) * choice] for i in range(num_parts)]\n",
    "\n",
    "    first_part = message[:12]\n",
    "    second_part = message[12:20]\n",
    "\n",
    "    first_choice = random.choice([1, 2, 4, 3, 6, 12])\n",
    "    second_choice = random.choice([1, 2, 4, 8])\n",
    "\n",
    "    real_messages = split_message_part(first_part, first_choice)\n",
    "    real_messages.extend(split_message_part(second_part, second_choice))\n",
    "\n",
    "    # Assuming you want to return the messages and entities for each channel\n",
    "    # For now, I'm just returning a dictionary with placeholder values.\n",
    "    return real_messages\n",
    "\n",
    "# Example usage\n",
    "message=\"abcdefghij12uo9dra6l\"\n",
    "image_carrier = \"example_entities\"\n",
    "result = generate_message_array(message, image_carrier)\n",
    "\n",
    "print(\"Result:\", result)\n"
   ]
  },
  {
   "cell_type": "code",
   "execution_count": 17,
   "metadata": {},
   "outputs": [
    {
     "name": "stdout",
     "output_type": "stream",
     "text": [
      "['a', 'bcde', 'f', 'ghi', 'jk', 'lm']\n"
     ]
    }
   ],
   "source": [
    "import random\n",
    "message=\"abcdefghijklm\"\n",
    "i=0\n",
    "parts=[]\n",
    "while i<len(message):\n",
    "    random_index=random.choice([1, 2, 3,4])\n",
    "    parts.append(message[i:i+random_index])\n",
    "    i+=random_index\n",
    "# parts.append(message[i:len(message)])   \n",
    "print(parts)\n"
   ]
  },
  {
   "cell_type": "code",
   "execution_count": 20,
   "metadata": {},
   "outputs": [
    {
     "name": "stdout",
     "output_type": "stream",
     "text": [
      "['sec', 'medium', 'stegano']\n"
     ]
    }
   ],
   "source": [
    "riddle_id=\"sec_medium_stegano\"\n",
    "id_split= riddle_id.split('_')\n",
    "print(id_split)"
   ]
  },
  {
   "cell_type": "code",
   "execution_count": 18,
   "metadata": {},
   "outputs": [
    {
     "name": "stdout",
     "output_type": "stream",
     "text": [
      "[[[1.0, 1.0, 1.0, 1.0, 1.0], [1.0, 1.0, 1.0, 1.0, 1.0], [1.0, 1.0, 1.0, 1.0, 1.0], [1.0, 1.0, 1.0, 1.0, 1.0]], [[1.0, 1.0, 1.0, 1.0, 1.0], [1.0, 1.0, 1.0, 1.0, 1.0], [1.0, 1.0, 1.0, 1.0, 1.0], [1.0, 1.0, 1.0, 1.0, 1.0]], [[1.0, 1.0, 1.0, 1.0, 1.0], [1.0, 1.0, 1.0, 1.0, 1.0], [1.0, 1.0, 1.0, 1.0, 1.0], [1.0, 1.0, 1.0, 1.0, 1.0]]]\n",
      "['a', {'Zeinab': 1}, 3, 4, 5]\n"
     ]
    }
   ],
   "source": [
    "import numpy as np\n",
    "\n",
    "x=np.ones((3, 4, 5))\n",
    "y=np.array(x)\n",
    "print(y.tolist())\n",
    "# list of number\n",
    "list1 = [1, 2, 3, 4, 5]\n",
    "list1[0]=\"a\"\n",
    "list1[1]={\"Zeinab\":1}\n",
    "print(list1)\n"
   ]
  },
  {
   "cell_type": "code",
   "execution_count": null,
   "metadata": {},
   "outputs": [],
   "source": [
    "import numpy as "
   ]
  }
 ],
 "metadata": {
  "kernelspec": {
   "display_name": "Python 3",
   "language": "python",
   "name": "python3"
  },
  "language_info": {
   "codemirror_mode": {
    "name": "ipython",
    "version": 3
   },
   "file_extension": ".py",
   "mimetype": "text/x-python",
   "name": "python",
   "nbconvert_exporter": "python",
   "pygments_lexer": "ipython3",
   "version": "3.11.4"
  }
 },
 "nbformat": 4,
 "nbformat_minor": 2
}
